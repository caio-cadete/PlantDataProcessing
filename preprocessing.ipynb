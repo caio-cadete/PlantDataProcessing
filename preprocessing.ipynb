{
 "cells": [
  {
   "cell_type": "code",
   "execution_count": null,
   "id": "29aa0c36",
   "metadata": {},
   "outputs": [],
   "source": [
    "import seaborn as sns\n",
    "import matplotlib.pyplot as plt\n",
    "import pandas as pd"
   ]
  },
  {
   "cell_type": "code",
   "execution_count": null,
   "id": "d694c2ee",
   "metadata": {},
   "outputs": [],
   "source": [
    "\n",
    "\n",
    "df = pd.read_csv(\"dataset_plantae_rj.csv\", sep=\";\", encoding=\"latin1\")\n",
    "df_sem_duplicatas = df.drop_duplicates(subset=['nome_cientifico', 'latitude', 'longitude'])\n",
    "\n",
    "print(f\"Arquivo sem duplicatas salvo com {len(df_sem_duplicatas)} linhas.\")\n",
    "print(f\"Arquivo com duplicatas tinha {len(df)} linhas.\")\n",
    "print(f\"Removidas {len(df) - len(df_sem_duplicatas)} linhas duplicadas.\")"
   ]
  },
  {
   "cell_type": "code",
   "execution_count": null,
   "id": "b631a940",
   "metadata": {},
   "outputs": [],
   "source": [
    "df_sem_duplicatas.to_csv(\"dataset_plantae_rj_sem_duplicatas.csv\", index=False, sep=';', encoding='latin1')"
   ]
  },
  {
   "cell_type": "code",
   "execution_count": null,
   "id": "dccc241b",
   "metadata": {},
   "outputs": [],
   "source": [
    "contagem_especies = df[\"nome_cientifico\"].value_counts()\n",
    "contagem_especies_unique = df_sem_duplicatas[\"nome_cientifico\"].value_counts()"
   ]
  },
  {
   "cell_type": "code",
   "execution_count": null,
   "id": "6586e6f7",
   "metadata": {},
   "outputs": [],
   "source": [
    "plt.figure(figsize=(10,6))\n",
    "contagem_especies.plot(kind=\"hist\", bins=50, edgecolor='black')\n",
    "plt.title(\"Distribuição da quantidade de registros por espécie\")\n",
    "plt.xlabel(\"Número de registros por espécie\")\n",
    "plt.ylabel(\"Frequência\")\n",
    "plt.grid(True)\n",
    "plt.show()"
   ]
  },
  {
   "cell_type": "code",
   "execution_count": null,
   "id": "a195c289",
   "metadata": {},
   "outputs": [],
   "source": [
    "plt.figure(figsize=(10,6))\n",
    "contagem_especies_unique.plot(kind=\"hist\", bins=50, edgecolor='black')\n",
    "plt.title(\"Distribuição da quantidade de registros por espécie\")\n",
    "plt.xlabel(\"Número de registros por espécie\")\n",
    "plt.ylabel(\"Frequência\")\n",
    "plt.grid(True)\n",
    "plt.show()"
   ]
  },
  {
   "cell_type": "code",
   "execution_count": null,
   "id": "7a46f39d",
   "metadata": {},
   "outputs": [],
   "source": []
  },
  {
   "cell_type": "code",
   "execution_count": null,
   "id": "f1367268",
   "metadata": {},
   "outputs": [],
   "source": []
  },
  {
   "cell_type": "code",
   "execution_count": null,
   "id": "1a7d6af0",
   "metadata": {},
   "outputs": [],
   "source": []
  }
 ],
 "metadata": {
  "kernelspec": {
   "display_name": ".venv",
   "language": "python",
   "name": "python3"
  },
  "language_info": {
   "name": "python",
   "version": "3.12.7"
  }
 },
 "nbformat": 4,
 "nbformat_minor": 5
}
