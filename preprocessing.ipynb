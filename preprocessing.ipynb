{
 "cells": [
  {
   "cell_type": "code",
   "execution_count": null,
   "id": "29aa0c36",
   "metadata": {},
   "outputs": [],
   "source": [
    "import seaborn as sns\n",
    "import matplotlib.pyplot as plt\n",
    "import pandas as pd\n",
    "from sklearn.neighbors import NearestNeighbors"
   ]
  },
  {
   "cell_type": "code",
   "execution_count": null,
   "id": "d694c2ee",
   "metadata": {},
   "outputs": [],
   "source": [
    "df = pd.read_csv(\"preprocessing\\dataset_plantae_rj.csv\", sep=\";\", encoding=\"latin1\", dtype=str)\n",
    "df_sem_duplicatas = df.drop_duplicates(subset=['nome_cientifico', 'latitude', 'longitude'])\n",
    "\n",
    "print(f\"Arquivo sem duplicatas salvo com {len(df_sem_duplicatas)} linhas.\")\n",
    "print(f\"Arquivo com duplicatas tinha {len(df)} linhas.\")\n",
    "print(f\"Removidas {len(df) - len(df_sem_duplicatas)} linhas duplicadas.\")"
   ]
  },
  {
   "cell_type": "code",
   "execution_count": null,
   "id": "b631a940",
   "metadata": {},
   "outputs": [],
   "source": [
    "df_sem_duplicatas.to_csv(\"preprocessing\\dataset_plantae_rj_sem_duplicatas.csv\", index=False, sep=';', encoding='latin1')"
   ]
  },
  {
   "cell_type": "code",
   "execution_count": null,
   "id": "dccc241b",
   "metadata": {},
   "outputs": [],
   "source": [
    "contagem_especies = df[\"nome_cientifico\"].value_counts()\n",
    "contagem_especies_unique = df_sem_duplicatas[\"nome_cientifico\"].value_counts()"
   ]
  },
  {
   "cell_type": "code",
   "execution_count": null,
   "id": "def60e9b",
   "metadata": {},
   "outputs": [],
   "source": [
    "contagem_especies.describe()"
   ]
  },
  {
   "cell_type": "code",
   "execution_count": null,
   "id": "92af6ba0",
   "metadata": {},
   "outputs": [],
   "source": [
    "contagem_especies_unique.describe()"
   ]
  },
  {
   "cell_type": "code",
   "execution_count": null,
   "id": "6586e6f7",
   "metadata": {},
   "outputs": [],
   "source": [
    "plt.figure(figsize=(10,6))\n",
    "contagem_especies.plot(kind=\"hist\", bins=50, edgecolor='black')\n",
    "plt.title(\"Distribuição da quantidade de registros por espécie\")\n",
    "plt.xlabel(\"Número de registros por espécie\")\n",
    "plt.ylabel(\"Frequência\")\n",
    "plt.grid(True)\n",
    "plt.show()"
   ]
  },
  {
   "cell_type": "code",
   "execution_count": null,
   "id": "a195c289",
   "metadata": {},
   "outputs": [],
   "source": [
    "plt.figure(figsize=(10,6))\n",
    "contagem_especies_unique.plot(kind=\"hist\", bins=50, edgecolor='black')\n",
    "plt.title(\"Distribuição da quantidade de registros por espécie\")\n",
    "plt.xlabel(\"Número de registros por espécie\")\n",
    "plt.ylabel(\"Frequência\")\n",
    "plt.grid(True)\n",
    "plt.show()"
   ]
  },
  {
   "cell_type": "code",
   "execution_count": null,
   "id": "7a46f39d",
   "metadata": {},
   "outputs": [],
   "source": [
    "limite = 30\n",
    "\n",
    "especies_filtradas = contagem_especies_unique[contagem_especies_unique >= limite].index\n",
    "df_plants = df[df['nome_cientifico'].isin(especies_filtradas)]\n"
   ]
  },
  {
   "cell_type": "code",
   "execution_count": null,
   "id": "f1367268",
   "metadata": {},
   "outputs": [],
   "source": [
    "df_plants.to_csv(\"dataset_plantae_rj_min_30.csv\", index=False, sep=';', encoding='latin1')\n",
    "contagem_especies_final= df_plants[\"nome_cientifico\"].value_counts()\n",
    "# Informações úteis\n",
    "print(\"Registros originais:\", len(df_sem_duplicatas))\n",
    "print(\"Registros após filtragem (mínimo 30):\", len(df_plants))\n",
    "print(\"Registros removidos:\", len(df_sem_duplicatas) - len(df_plants))"
   ]
  },
  {
   "cell_type": "code",
   "execution_count": null,
   "id": "3688850d",
   "metadata": {},
   "outputs": [],
   "source": [
    "plt.figure(figsize=(10,6))\n",
    "contagem_especies_final.plot(kind=\"hist\", bins=50, edgecolor='black')\n",
    "plt.title(\"Distribuição da quantidade de registros por espécie\")\n",
    "plt.xlabel(\"Número de registros por espécie\")\n",
    "plt.ylabel(\"Frequência\")\n",
    "plt.grid(True)\n",
    "plt.show()"
   ]
  },
  {
   "cell_type": "code",
   "execution_count": null,
   "id": "1a7d6af0",
   "metadata": {},
   "outputs": [],
   "source": [
    "df_climasolotemp_rj = pd.read_csv(\"dataset_climasolotemp_rj.csv\", sep=\";\", encoding=\"latin1\", dtype=str)\n"
   ]
  },
  {
   "cell_type": "code",
   "execution_count": null,
   "id": "a697d7ab",
   "metadata": {},
   "outputs": [],
   "source": [
    "df_plants['latitude'] = df_plants['latitude'].astype(str).str.replace(',', '.')\n",
    "df_plants['longitude'] = df_plants['longitude'].astype(str).str.replace(',', '.')\n",
    "\n"
   ]
  },
  {
   "cell_type": "code",
   "execution_count": null,
   "id": "e252a8f2",
   "metadata": {},
   "outputs": [],
   "source": [
    "df_plants[['latitude', 'longitude']] = df_plants[['latitude', 'longitude']].replace('', pd.NA)\n",
    "df_plants = df_plants.dropna(subset=['latitude', 'longitude'])"
   ]
  },
  {
   "cell_type": "code",
   "execution_count": null,
   "id": "5f3fce79",
   "metadata": {},
   "outputs": [],
   "source": [
    "df_plants['latitude'] = df_plants['latitude'].astype(float)\n",
    "df_plants['longitude'] = df_plants['longitude'].astype(float)"
   ]
  },
  {
   "cell_type": "code",
   "execution_count": null,
   "id": "a789b1c8",
   "metadata": {},
   "outputs": [],
   "source": [
    "df_plants.columns\n",
    "df_plants['latitude']"
   ]
  },
  {
   "cell_type": "code",
   "execution_count": null,
   "id": "2cdec698",
   "metadata": {},
   "outputs": [],
   "source": [
    "df_plants['longitude']"
   ]
  },
  {
   "cell_type": "code",
   "execution_count": null,
   "id": "c419f9e8",
   "metadata": {},
   "outputs": [],
   "source": [
    "# Supondo que df_plants e df_clima já estejam com latitude/longitude como float\n",
    "# 1. Extrai as coordenadas como arrays NumPy\n",
    "plant_coords = df_plants[['latitude', 'longitude']].to_numpy()\n",
    "climasolotemp_coords = df_climasolotemp_rj[['latitude', 'longitude']].to_numpy()"
   ]
  },
  {
   "cell_type": "code",
   "execution_count": null,
   "id": "4c22305c",
   "metadata": {},
   "outputs": [],
   "source": [
    "# 2. Treina o modelo de vizinho mais próximo (mais rápido com 'ball_tree')\n",
    "nn = NearestNeighbors(n_neighbors=1, algorithm='ball_tree')\n",
    "nn.fit(climasolotemp_coords)"
   ]
  },
  {
   "cell_type": "code",
   "execution_count": null,
   "id": "79147563",
   "metadata": {},
   "outputs": [],
   "source": [
    "# 3. Para cada planta, encontra o ponto de clima mais próximo\n",
    "distances, indices = nn.kneighbors(plant_coords)"
   ]
  },
  {
   "cell_type": "code",
   "execution_count": null,
   "id": "5f454b96",
   "metadata": {},
   "outputs": [],
   "source": [
    "# 4. Pega as linhas correspondentes do df_clima\n",
    "df_climasolotemp_matched = df_climasolotemp_rj.iloc[indices.flatten()].reset_index(drop=True)"
   ]
  },
  {
   "cell_type": "code",
   "execution_count": null,
   "id": "98d43344",
   "metadata": {},
   "outputs": [],
   "source": [
    "# 5. Remove lat/lon duplicadas do clima para evitar redundância\n",
    "df_climasolotemp_matched = df_climasolotemp_matched.drop(columns=['latitude', 'longitude'])\n"
   ]
  },
  {
   "cell_type": "code",
   "execution_count": null,
   "id": "182a0581",
   "metadata": {},
   "outputs": [],
   "source": [
    "# 6. Reseta o índice do df_plants também para garantir alinhamento\n",
    "df_plants = df_plants.reset_index(drop=True)"
   ]
  },
  {
   "cell_type": "code",
   "execution_count": null,
   "id": "4af1de7b",
   "metadata": {},
   "outputs": [],
   "source": [
    "# 9. Concatena os dois DataFrames (plantas + climasolotemp)\n",
    "df_resultado = pd.concat([df_plants, df_climasolotemp_matched], axis=1)"
   ]
  },
  {
   "cell_type": "code",
   "execution_count": null,
   "id": "d7b854eb",
   "metadata": {},
   "outputs": [],
   "source": [
    "# 10. Filtra por distância máxima aceitável (ex: 0.05 graus ≈ 5km)\n",
    "dist_max = 0.05\n",
    "df_resultado['distancia'] = distances.flatten()\n",
    "df_resultado = df_resultado[df_resultado['distancia'] <= dist_max].drop(columns='distancia')"
   ]
  },
  {
   "cell_type": "code",
   "execution_count": null,
   "id": "5b81e363",
   "metadata": {},
   "outputs": [],
   "source": [
    "# 11. Salva o resultado final\n",
    "df_resultado.to_csv('dataset_cruzado2.csv', index=False, sep=';', encoding='latin1')"
   ]
  }
 ],
 "metadata": {
  "kernelspec": {
   "display_name": ".venv",
   "language": "python",
   "name": "python3"
  },
  "language_info": {
   "codemirror_mode": {
    "name": "ipython",
    "version": 3
   },
   "file_extension": ".py",
   "mimetype": "text/x-python",
   "name": "python",
   "nbconvert_exporter": "python",
   "pygments_lexer": "ipython3",
   "version": "3.12.7"
  }
 },
 "nbformat": 4,
 "nbformat_minor": 5
}
